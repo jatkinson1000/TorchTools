{
 "cells": [
  {
   "attachments": {},
   "cell_type": "markdown",
   "metadata": {},
   "source": [
    "# Dense network demonstrations"
   ]
  },
  {
   "attachments": {},
   "cell_type": "markdown",
   "metadata": {},
   "source": [
    "The ``torch_tools.DenseNetwork`` model can be used for classification or regression.\n",
    "\n",
    "First, Let's use it for a classification problem.\n",
    "\n",
    "* Some data:\n",
    "    * For the classification and regression examples we will use some datasets available from scikit-learn.\n",
    "    * We will also need to load the data using a ``Dataset`` and ``DataLoader``.\n",
    "* A model:\n",
    "    * We will instantiate the model shortly.\n",
    "* A loss function.\n",
    "* A optimiser to fit the model with."
   ]
  },
  {
   "attachments": {},
   "cell_type": "markdown",
   "metadata": {},
   "source": [
    "## Classification example\n"
   ]
  },
  {
   "attachments": {},
   "cell_type": "markdown",
   "metadata": {},
   "source": [
    "Let us grab some data from scikit learn:"
   ]
  },
  {
   "cell_type": "code",
   "execution_count": 1,
   "metadata": {},
   "outputs": [
    {
     "name": "stdout",
     "output_type": "stream",
     "text": [
      "(456, 31)\n",
      "(113, 31)\n"
     ]
    }
   ],
   "source": [
    "from sklearn.datasets import load_breast_cancer\n",
    "\n",
    "data = load_breast_cancer(as_frame=True).frame\n",
    "\n",
    "valid_split = data.groupby(\"target\").sample(frac=0.2, random_state=123)\n",
    "\n",
    "train_split = data.loc[~data.index.isin(valid_split.index)]\n",
    "\n",
    "print(train_split.shape)\n",
    "print(valid_split.shape)"
   ]
  },
  {
   "attachments": {},
   "cell_type": "markdown",
   "metadata": {},
   "source": [
    "Now we have downloaded the breast cancer dataset from scikit-learn, and split the data into a training and validation set. Conventially, one should split the data into a training, validation and testing set, but since this is only a simple example to illustrate use of the model, we skip this formality."
   ]
  },
  {
   "attachments": {},
   "cell_type": "markdown",
   "metadata": {},
   "source": [
    "As a matter of convenience, let's grab a list of the keys for accessing the data and targets separately."
   ]
  },
  {
   "cell_type": "code",
   "execution_count": 2,
   "metadata": {},
   "outputs": [],
   "source": [
    "data_keys = list(filter(lambda x: x != \"target\", data.keys()))\n",
    "target_keys = [\"target\"]"
   ]
  },
  {
   "attachments": {},
   "cell_type": "markdown",
   "metadata": {},
   "source": [
    "Now, let's create a training and validation dataset."
   ]
  },
  {
   "cell_type": "code",
   "execution_count": 3,
   "metadata": {},
   "outputs": [
    {
     "name": "stdout",
     "output_type": "stream",
     "text": [
      "(30,)\n",
      "torch.Size([2])\n"
     ]
    }
   ],
   "source": [
    "from torch import eye\n",
    "from torchvision.transforms import Compose\n",
    "\n",
    "from torch_tools import DataSet\n",
    "\n",
    "train_set = DataSet(\n",
    "    inputs=tuple(train_split[data_keys].to_numpy()),\n",
    "    targets=tuple(train_split[target_keys].to_numpy()),\n",
    "    target_tfms=Compose([lambda x: eye(2)[x].squeeze()]),\n",
    ")\n",
    "\n",
    "valid_set = DataSet(\n",
    "    inputs=tuple(valid_split[data_keys].to_numpy()),\n",
    "    targets=tuple(valid_split[target_keys].to_numpy()),\n",
    "    target_tfms=Compose([lambda x: eye(2)[x].squeeze()]),\n",
    ")\n",
    "\n",
    "# Let's grab an input and target from the validation set and see what we get.\n",
    "x_item, y_item = valid_set[0]\n",
    "\n",
    "print(x_item.shape)\n",
    "print(y_item.shape)"
   ]
  },
  {
   "attachments": {},
   "cell_type": "markdown",
   "metadata": {},
   "source": [
    "PyTorch Datasets generally return single input-target pairs, but when training neural networks we normally stack inputs and targets in mini-batches. The PyTorch way to achieve this is use a ``DataLoader`` object."
   ]
  },
  {
   "cell_type": "code",
   "execution_count": 4,
   "metadata": {},
   "outputs": [
    {
     "name": "stdout",
     "output_type": "stream",
     "text": [
      "torch.Size([10, 30]) torch.Size([10, 2])\n",
      "torch.Size([10, 30]) torch.Size([10, 2])\n",
      "torch.Size([10, 30]) torch.Size([10, 2])\n",
      "torch.Size([10, 30]) torch.Size([10, 2])\n",
      "torch.Size([10, 30]) torch.Size([10, 2])\n",
      "torch.Size([10, 30]) torch.Size([10, 2])\n",
      "torch.Size([10, 30]) torch.Size([10, 2])\n",
      "torch.Size([10, 30]) torch.Size([10, 2])\n",
      "torch.Size([10, 30]) torch.Size([10, 2])\n",
      "torch.Size([10, 30]) torch.Size([10, 2])\n",
      "torch.Size([10, 30]) torch.Size([10, 2])\n",
      "torch.Size([3, 30]) torch.Size([3, 2])\n"
     ]
    }
   ],
   "source": [
    "from torch.utils.data import DataLoader\n",
    "\n",
    "batch_size = 10\n",
    "\n",
    "train_loader = DataLoader(train_set, shuffle=True, batch_size=batch_size)\n",
    "valid_loader = DataLoader(valid_set, shuffle=False, batch_size=batch_size)\n",
    "\n",
    "for batch, targets in valid_loader:\n",
    "    print(batch.shape, targets.shape)"
   ]
  },
  {
   "attachments": {},
   "cell_type": "markdown",
   "metadata": {},
   "source": [
    "Now we have the data, we need a model, loss function and optimiser. Let's set these things up."
   ]
  },
  {
   "cell_type": "code",
   "execution_count": 5,
   "metadata": {},
   "outputs": [
    {
     "name": "stdout",
     "output_type": "stream",
     "text": [
      "DenseNetwork(\n",
      "  (0): InputBlock(\n",
      "    (0): BatchNorm1d(30, eps=1e-05, momentum=0.1, affine=True, track_running_stats=True)\n",
      "    (1): Dropout(p=0.1, inplace=False)\n",
      "  )\n",
      "  (1): DenseBlock(\n",
      "    (0): Linear(in_features=30, out_features=16, bias=True)\n",
      "    (1): BatchNorm1d(16, eps=1e-05, momentum=0.1, affine=True, track_running_stats=True)\n",
      "    (2): Dropout(p=0.25, inplace=False)\n",
      "    (3): LeakyReLU(negative_slope=0.1)\n",
      "  )\n",
      "  (2): DenseBlock(\n",
      "    (0): Linear(in_features=16, out_features=8, bias=True)\n",
      "    (1): BatchNorm1d(8, eps=1e-05, momentum=0.1, affine=True, track_running_stats=True)\n",
      "    (2): Dropout(p=0.25, inplace=False)\n",
      "    (3): LeakyReLU(negative_slope=0.1)\n",
      "  )\n",
      "  (3): DenseBlock(\n",
      "    (0): Linear(in_features=8, out_features=2, bias=True)\n",
      "  )\n",
      ")\n"
     ]
    }
   ],
   "source": [
    "from torch.nn import BCELoss\n",
    "from torch.optim import Adam\n",
    "\n",
    "from torch_tools import DenseNetwork\n",
    "\n",
    "\n",
    "loss_func = BCELoss(reduction=\"sum\")\n",
    "\n",
    "model = DenseNetwork(\n",
    "    in_feats=30,\n",
    "    out_feats=2,\n",
    "    hidden_sizes=(16, 8),\n",
    "    input_dropout=0.1,\n",
    "    input_bnorm=True,\n",
    "    hidden_dropout=0.25,\n",
    ")\n",
    "print(model)\n",
    "\n",
    "\n",
    "optimiser = Adam(model.parameters(), lr=1e-4)"
   ]
  },
  {
   "attachments": {},
   "cell_type": "markdown",
   "metadata": {},
   "source": [
    "Let's write functions for training and validating single epochs"
   ]
  },
  {
   "cell_type": "code",
   "execution_count": 6,
   "metadata": {},
   "outputs": [],
   "source": [
    "from torch.nn import Module\n",
    "from torch import no_grad\n",
    "\n",
    "\n",
    "def train_one_epoch(\n",
    "    model: Module,\n",
    "    loss_func: BCELoss,\n",
    "    optim: Adam,\n",
    "    train_loader: DataLoader,\n",
    "):\n",
    "    \"\"\"Train the model for a single epoch.\n",
    "\n",
    "    Parameters\n",
    "    ----------\n",
    "    model : Module\n",
    "        The model we want to train.\n",
    "    loss_func : BCELoss\n",
    "        Binary-cross-entropy loss function.\n",
    "    optim : Adam\n",
    "        Adam optimiser.\n",
    "    train_loader : DataLoader\n",
    "        Training dataloader.\n",
    "\n",
    "    Returns\n",
    "    -------\n",
    "    mean_loss: float\n",
    "        Mean loss per batch.\n",
    "    accuracy : float\n",
    "        Accuracy over the epoch.\n",
    "\n",
    "    \"\"\"\n",
    "    model.train()\n",
    "    running_loss = 0.0\n",
    "    correct = 0\n",
    "    for batch, targets in train_loader:\n",
    "        batch, targets = batch.float(), targets.float()\n",
    "\n",
    "        optim.zero_grad()\n",
    "\n",
    "        prediction = model(batch).softmax(dim=1)\n",
    "\n",
    "        loss = loss_func(prediction, targets)\n",
    "\n",
    "        loss.backward()\n",
    "\n",
    "        optim.step()\n",
    "\n",
    "        running_loss += loss.item()\n",
    "\n",
    "        correct += (prediction.detach().argmax(dim=1) == targets.argmax(dim=1)).sum()\n",
    "\n",
    "    mean_loss = running_loss / len(train_loader.dataset)\n",
    "    accuracy = correct / len(train_loader.dataset)\n",
    "\n",
    "    return mean_loss, accuracy\n",
    "\n",
    "\n",
    "@no_grad()\n",
    "def validate_one_epoch(\n",
    "    model: Module,\n",
    "    loss_func: BCELoss,\n",
    "    valid_loader: DataLoader,\n",
    "):\n",
    "    \"\"\"Validate single epoch.\n",
    "\n",
    "    Parameters\n",
    "    ----------\n",
    "    model : Module\n",
    "        The model to validate.\n",
    "    loss_func : BCELoss\n",
    "        Binary-cross-entropy loss function.\n",
    "    valid_loader : DataLoader\n",
    "        Validation data loader.\n",
    "    \n",
    "    Returns\n",
    "    -------\n",
    "    float\n",
    "        Mean loss per item.\n",
    "    accuracy : float\n",
    "        Accuracy over the epoch.\n",
    "\n",
    "    \"\"\"\n",
    "    model.eval()\n",
    "    running_loss = 0.0\n",
    "    correct = 0\n",
    "    for batch, targets in valid_loader:\n",
    "        batch, targets = batch.float(), targets.float()\n",
    "\n",
    "        prediction = model(batch).softmax(dim=1)\n",
    "\n",
    "        loss = loss_func(prediction, targets)\n",
    "\n",
    "        correct += (prediction.argmax(dim=1) == targets.argmax(dim=1)).sum()\n",
    "\n",
    "        running_loss += loss.item()\n",
    "\n",
    "    mean_loss = running_loss / len(valid_loader.dataset)\n",
    "    accuracy = correct / len(valid_loader.dataset)\n",
    "\n",
    "    return mean_loss, accuracy"
   ]
  },
  {
   "attachments": {},
   "cell_type": "markdown",
   "metadata": {},
   "source": [
    "Now, we train!"
   ]
  },
  {
   "cell_type": "code",
   "execution_count": 7,
   "metadata": {},
   "outputs": [],
   "source": [
    "metrics = {\n",
    "    \"train_loss\": [],\n",
    "    \"valid_loss\": [],\n",
    "    \"train_acc\": [],\n",
    "    \"valid_acc\": [],\n",
    "}\n",
    "\n",
    "for epoch in range(200):\n",
    "    train_loss, train_acc = train_one_epoch(\n",
    "        model,\n",
    "        loss_func,\n",
    "        optimiser,\n",
    "        train_loader,\n",
    "    )\n",
    "    valid_loss, valid_acc = validate_one_epoch(model, loss_func, valid_loader)\n",
    "\n",
    "    metrics[\"train_loss\"].append(train_loss)\n",
    "    metrics[\"train_acc\"].append(train_acc)\n",
    "    metrics[\"valid_loss\"].append(valid_loss)\n",
    "    metrics[\"valid_acc\"].append(valid_acc)\n",
    "\n"
   ]
  },
  {
   "attachments": {},
   "cell_type": "markdown",
   "metadata": {},
   "source": [
    "Now that the model is trained, we can plot the ``metrics`` dictionary we have populated."
   ]
  },
  {
   "cell_type": "code",
   "execution_count": 8,
   "metadata": {},
   "outputs": [
    {
     "data": {
      "image/png": "[encoded data removed]",
      "text/plain": [
       "<Figure size 640x480 with 2 Axes>"
      ]
     },
     "metadata": {},
     "output_type": "display_data"
    }
   ],
   "source": [
    "import matplotlib.pyplot as plt\n",
    "\n",
    "figure, axes = plt.subplots(1, 2)\n",
    "axes[0].plot(metrics[\"train_loss\"], label=\"Train\")\n",
    "axes[0].plot(metrics[\"valid_loss\"], label=\"Valid\")\n",
    "\n",
    "\n",
    "axes[1].plot(metrics[\"train_acc\"], label=\"Train\")\n",
    "axes[1].plot(metrics[\"valid_acc\"], label=\"Valid\")\n",
    "\n",
    "axes[0].set_ylim(bottom=0.0)\n",
    "axes[1].set_ylim(bottom=0.5, top=1.0)\n",
    "\n",
    "axes[0].set_ylabel(\"Loss\")\n",
    "axes[1].set_ylabel(\"Accuracy\")\n",
    "\n",
    "\n",
    "for axis in axes.ravel():\n",
    "    axis.set_xlabel(\"Epoch\")\n",
    "    axis.set_xlim(left=0.0, right=len(metrics[\"train_acc\"]))\n",
    "    axis.set_aspect(\n",
    "        (axis.get_xlim()[1] - axis.get_xlim()[0])\n",
    "        / (axis.get_ylim()[1] - axis.get_ylim()[0])\n",
    "    )\n",
    "    axis.legend()\n",
    "\n",
    "\n",
    "figure.tight_layout()\n",
    "\n",
    "plt.show()"
   ]
  },
  {
   "attachments": {},
   "cell_type": "markdown",
   "metadata": {},
   "source": [
    "## Regression Example\n",
    "\n",
    "In the classification example, we asked the model to produce a discrete classification by obtaining a prediction from the maximum argument of the softmax's output. In this case, we will use the diabetes dataset from scikit learn.\n",
    "\n",
    "In this case there are ten classes, and the output is a continuous, quantative measure of disease."
   ]
  },
  {
   "cell_type": "code",
   "execution_count": 9,
   "metadata": {},
   "outputs": [
    {
     "name": "stdout",
     "output_type": "stream",
     "text": [
      "(88, 11)\n",
      "(354, 11)\n",
      "['age', 'sex', 'bmi', 'bp', 's1', 's2', 's3', 's4', 's5', 's6']\n",
      "['target']\n"
     ]
    }
   ],
   "source": [
    "from sklearn.datasets import load_diabetes\n",
    "\n",
    "data = load_diabetes(as_frame=True, scaled=False).frame\n",
    "\n",
    "\n",
    "valid_data = data.sample(frac=0.2, random_state=123)\n",
    "train_data = data.loc[~data.index.isin(valid_data.index)]\n",
    "\n",
    "print(valid_data.shape)\n",
    "print(train_data.shape)\n",
    "\n",
    "\n",
    "input_keys = list(filter(lambda x: x != \"target\", data.keys()))\n",
    "\n",
    "print(input_keys)\n",
    "print(target_keys)"
   ]
  },
  {
   "attachments": {},
   "cell_type": "markdown",
   "metadata": {},
   "source": [
    "Now we can create our dataset and dataloader objects as we did before."
   ]
  },
  {
   "cell_type": "code",
   "execution_count": 10,
   "metadata": {},
   "outputs": [
    {
     "name": "stdout",
     "output_type": "stream",
     "text": [
      "torch.Size([10, 10]) torch.Size([10, 1])\n",
      "torch.Size([10, 10]) torch.Size([10, 1])\n",
      "torch.Size([10, 10]) torch.Size([10, 1])\n",
      "torch.Size([10, 10]) torch.Size([10, 1])\n",
      "torch.Size([10, 10]) torch.Size([10, 1])\n",
      "torch.Size([10, 10]) torch.Size([10, 1])\n",
      "torch.Size([10, 10]) torch.Size([10, 1])\n",
      "torch.Size([10, 10]) torch.Size([10, 1])\n",
      "torch.Size([8, 10]) torch.Size([8, 1])\n"
     ]
    }
   ],
   "source": [
    "train_set = DataSet(\n",
    "    inputs=tuple(train_data[input_keys].to_numpy()),\n",
    "    targets=tuple(train_data[target_keys].to_numpy()),\n",
    ")\n",
    "\n",
    "\n",
    "valid_set = DataSet(\n",
    "    inputs=tuple(valid_data[input_keys].to_numpy()),\n",
    "    targets=tuple(valid_data[target_keys].to_numpy()),\n",
    ")\n",
    "\n",
    "train_loader = DataLoader(train_set, shuffle=True, batch_size=batch_size)\n",
    "valid_loader = DataLoader(valid_set, shuffle=False, batch_size=batch_size)\n",
    "\n",
    "for batch, target in valid_loader:\n",
    "    print(batch.shape, target.shape)"
   ]
  },
  {
   "cell_type": "code",
   "execution_count": 11,
   "metadata": {},
   "outputs": [
    {
     "name": "stdout",
     "output_type": "stream",
     "text": [
      "DenseNetwork(\n",
      "  (0): InputBlock(\n",
      "    (0): BatchNorm1d(10, eps=1e-05, momentum=0.1, affine=True, track_running_stats=True)\n",
      "    (1): Dropout(p=0.1, inplace=False)\n",
      "  )\n",
      "  (1): DenseBlock(\n",
      "    (0): Linear(in_features=10, out_features=10, bias=True)\n",
      "    (1): BatchNorm1d(10, eps=1e-05, momentum=0.1, affine=True, track_running_stats=True)\n",
      "    (2): Dropout(p=0.1, inplace=False)\n",
      "    (3): LeakyReLU(negative_slope=0.1)\n",
      "  )\n",
      "  (2): DenseBlock(\n",
      "    (0): Linear(in_features=10, out_features=5, bias=True)\n",
      "    (1): BatchNorm1d(5, eps=1e-05, momentum=0.1, affine=True, track_running_stats=True)\n",
      "    (2): Dropout(p=0.1, inplace=False)\n",
      "    (3): LeakyReLU(negative_slope=0.1)\n",
      "  )\n",
      "  (3): DenseBlock(\n",
      "    (0): Linear(in_features=5, out_features=1, bias=True)\n",
      "  )\n",
      ")\n"
     ]
    }
   ],
   "source": [
    "model = DenseNetwork(\n",
    "    in_feats=10,\n",
    "    out_feats=1,\n",
    "    hidden_sizes=(10, 5),\n",
    "    input_bnorm=True,\n",
    "    hidden_bnorm=True,\n",
    "    input_dropout=0.1,\n",
    "    hidden_dropout=0.1,\n",
    ")\n",
    "print(model)"
   ]
  },
  {
   "attachments": {},
   "cell_type": "markdown",
   "metadata": {},
   "source": [
    "We also need a new loss function: this time—means-squared-error."
   ]
  },
  {
   "cell_type": "code",
   "execution_count": 12,
   "metadata": {},
   "outputs": [],
   "source": [
    "from torch.nn import L1Loss\n",
    "\n",
    "loss_func = L1Loss(reduction=\"sum\")\n",
    "optimiser = Adam(model.parameters(), lr=1e-4)"
   ]
  },
  {
   "attachments": {},
   "cell_type": "markdown",
   "metadata": {},
   "source": [
    "Now we need to rewrite the training and validation functions to extract slightly different information than we did in the classification example."
   ]
  },
  {
   "cell_type": "code",
   "execution_count": 13,
   "metadata": {},
   "outputs": [],
   "source": [
    "def train_one_epoch(\n",
    "    model: Module,\n",
    "    loss_func: L1Loss,\n",
    "    optim: Adam,\n",
    "    train_loader: DataLoader,\n",
    "):\n",
    "    \"\"\"Train the regression model for a single epoch.\n",
    "\n",
    "    Parameters\n",
    "    ----------\n",
    "    model : Module\n",
    "        PyTorch model.\n",
    "    loss_func : L1Loss\n",
    "        The loss function.\n",
    "    optim : Adam\n",
    "        Optimiser to train the function with.\n",
    "    train_loader : DataLoader\n",
    "        Training dataloader.\n",
    "\n",
    "    \"\"\"\n",
    "    model.train()\n",
    "    running_loss = 0.0\n",
    "    for batch, targets in train_loader:\n",
    "\n",
    "        batch, targets = batch.float(), targets.float()\n",
    "\n",
    "        optim.zero_grad()\n",
    "\n",
    "        preds = model(batch)\n",
    "\n",
    "        loss = loss_func(preds, targets)\n",
    "\n",
    "        loss.backward()\n",
    "\n",
    "        optim.step()\n",
    "\n",
    "        running_loss += loss.item()\n",
    "\n",
    "    return running_loss / len(train_loader.dataset)\n",
    "\n",
    "\n",
    "@no_grad()\n",
    "def validate_one_epoch(\n",
    "    model: Module,\n",
    "    loss_func: L1Loss,\n",
    "    valid_loader: DataLoader,\n",
    "):\n",
    "    \"\"\"Validate single epoch.\n",
    "    \n",
    "    Parameters\n",
    "    ----------\n",
    "    model : Module\n",
    "        PyTorch model to validate.\n",
    "    loss_func : L1Loss\n",
    "        Mean-squared-error loss.\n",
    "    valid_loader : DataLoader\n",
    "        Validation DataLoader.\n",
    "    \n",
    "    Returns\n",
    "    -------\n",
    "    float\n",
    "        Mean loss over the epoch.\n",
    "    \n",
    "    \"\"\"\n",
    "    model.eval()\n",
    "    running_loss = 0.0\n",
    "    for batch, targets in valid_loader:\n",
    "\n",
    "        batch, targets = batch.float(), targets.float()\n",
    "\n",
    "        pred = model(batch)\n",
    "\n",
    "        loss = loss_func(pred, targets)\n",
    "\n",
    "        running_loss += loss.item()\n",
    "    \n",
    "    return running_loss / len(valid_loader.dataset)"
   ]
  },
  {
   "cell_type": "markdown",
   "metadata": {},
   "source": [
    "Now, let's train!"
   ]
  },
  {
   "cell_type": "code",
   "execution_count": 14,
   "metadata": {},
   "outputs": [
    {
     "data": {
      "image/png": "[encoded data removed]",
      "text/plain": [
       "<Figure size 640x480 with 1 Axes>"
      ]
     },
     "metadata": {},
     "output_type": "display_data"
    }
   ],
   "source": [
    "metrics = {\"train_loss\": [], \"valid_loss\": []}\n",
    "\n",
    "for epoch in range(2000):\n",
    "\n",
    "    train_loss = train_one_epoch(model, loss_func, optimiser, train_loader)\n",
    "    valid_loss = validate_one_epoch(model, loss_func, valid_loader)\n",
    "\n",
    "    metrics[\"train_loss\"].append(train_loss)\n",
    "    metrics[\"valid_loss\"].append(valid_loss)\n",
    "\n",
    "\n",
    "figure, axis = plt.subplots(1, 1)\n",
    "\n",
    "axis.plot(metrics[\"train_loss\"], label=\"Train\")\n",
    "axis.plot(metrics[\"valid_loss\"], label=\"Valid\")\n",
    "\n",
    "axis.set_ylabel(\"Loss\")\n",
    "axis.set_xlabel(\"Epoch\")\n",
    "\n",
    "axis.set_xlim(left=0.0)\n",
    "\n",
    "axis.legend()\n",
    "\n",
    "figure.tight_layout()"
   ]
  }
 ],
 "metadata": {
  "kernelspec": {
   "display_name": "torch-tools-demo",
   "language": "python",
   "name": "python3"
  },
  "language_info": {
   "codemirror_mode": {
    "name": "ipython",
    "version": 3
   },
   "file_extension": ".py",
   "mimetype": "text/x-python",
   "name": "python",
   "nbconvert_exporter": "python",
   "pygments_lexer": "ipython3",
   "version": "3.10.9"
  },
  "orig_nbformat": 4,
  "vscode": {
   "interpreter": {
    "hash": "3e74d1994c379df6aff695ace2bf1d8e3df6b224be0e21a88aabc57cf071ea71"
   }
  }
 },
 "nbformat": 4,
 "nbformat_minor": 2
}
