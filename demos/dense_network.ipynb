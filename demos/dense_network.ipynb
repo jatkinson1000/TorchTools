{
 "cells": [
  {
   "attachments": {},
   "cell_type": "markdown",
   "metadata": {},
   "source": [
    "# Dense network demo"
   ]
  },
  {
   "attachments": {},
   "cell_type": "markdown",
   "metadata": {},
   "source": [
    "The ``torch_tools.DenseNetwork`` model can be used for classification or regression.\n",
    "\n",
    "First, Let's use it for a classification problem. To\n",
    "\n",
    "* Some data:\n",
    "    * For this example we will use the UCL ML Wine dataset available from Scikit Learn.\n",
    "    * We will also need to load the data using a ``Dataset`` and ``DataLoader``.\n",
    "* A model:\n",
    "    * We will instantiate the model shortly.\n",
    "* A loss function.\n",
    "* A optimiser to fit the model with."
   ]
  },
  {
   "attachments": {},
   "cell_type": "markdown",
   "metadata": {},
   "source": [
    "## Classification example\n"
   ]
  },
  {
   "cell_type": "markdown",
   "metadata": {},
   "source": []
  }
 ],
 "metadata": {
  "kernelspec": {
   "display_name": "torch-tools",
   "language": "python",
   "name": "python3"
  },
  "language_info": {
   "name": "python",
   "version": "3.10.8"
  },
  "orig_nbformat": 4,
  "vscode": {
   "interpreter": {
    "hash": "389daa27a49850dc9127ed4dc2ce151fa3f7d10fd95fdbad85e152cfd906ea76"
   }
  }
 },
 "nbformat": 4,
 "nbformat_minor": 2
}
