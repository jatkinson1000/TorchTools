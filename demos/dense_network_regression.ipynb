{
 "cells": [
  {
   "attachments": {},
   "cell_type": "markdown",
   "metadata": {},
   "source": [
    "# Dense network regression demonstration"
   ]
  },
  {
   "attachments": {},
   "cell_type": "markdown",
   "metadata": {},
   "source": [
    "The ``torch_tools.DenseNetwork`` model can also be use for regression problems.\n",
    "\n",
    "We need the same things as before:\n",
    "* Some data:\n",
    "    * We'll again use a dataset from ``scklearn``.\n",
    "    * We will also need to load the data using a ``Dataset`` and ``DataLoader``.\n",
    "* A model:\n",
    "    * We will instantiate the model shortly.\n",
    "* A loss function.\n",
    "* A optimiser to fit the model with.\n",
    "\n",
    "\n",
    "In the classification example, we asked the model to produce a discrete classification by obtaining a prediction from the maximum argument of the softmax's output. In this case, we will use the diabetes dataset from scikit learn.\n",
    "\n",
    "In this case there are ten classes, and the output is a continuous, quantative measure of disease."
   ]
  },
  {
   "cell_type": "code",
   "execution_count": 1,
   "metadata": {},
   "outputs": [
    {
     "name": "stdout",
     "output_type": "stream",
     "text": [
      "(4128, 9)\n",
      "(16512, 9)\n",
      "['MedInc', 'HouseAge', 'AveRooms', 'AveBedrms', 'Population', 'AveOccup', 'Latitude', 'Longitude']\n",
      "['MedHouseVal']\n"
     ]
    }
   ],
   "source": [
    "from sklearn.datasets import load_diabetes\n",
    "from sklearn.datasets import fetch_california_housing\n",
    "\n",
    "data = fetch_california_housing(as_frame=True).frame\n",
    "\n",
    "\n",
    "valid_data = data.sample(frac=0.2, random_state=123)\n",
    "train_data = data.loc[~data.index.isin(valid_data.index)]\n",
    "\n",
    "print(valid_data.shape)\n",
    "print(train_data.shape)\n",
    "\n",
    "\n",
    "target_keys = [\"MedHouseVal\"]\n",
    "input_keys = list(filter(lambda x: x not in target_keys, data.keys()))\n",
    "\n",
    "print(input_keys)\n",
    "print(target_keys)"
   ]
  },
  {
   "attachments": {},
   "cell_type": "markdown",
   "metadata": {},
   "source": [
    "Now we can create our dataset and dataloader objects as we did before."
   ]
  },
  {
   "cell_type": "code",
   "execution_count": 2,
   "metadata": {},
   "outputs": [],
   "source": [
    "from torch.utils.data import DataLoader\n",
    "from torch_tools import DataSet\n",
    "\n",
    "\n",
    "batch_size = 10\n",
    "\n",
    "\n",
    "train_set = DataSet(\n",
    "    inputs=tuple(train_data[input_keys].to_numpy()),\n",
    "    targets=tuple(train_data[target_keys].to_numpy()),\n",
    ")\n",
    "\n",
    "\n",
    "valid_set = DataSet(\n",
    "    inputs=tuple(valid_data[input_keys].to_numpy()),\n",
    "    targets=tuple(valid_data[target_keys].to_numpy()),\n",
    ")\n",
    "\n",
    "train_loader = DataLoader(train_set, shuffle=True, batch_size=batch_size)\n",
    "valid_loader = DataLoader(valid_set, shuffle=False, batch_size=batch_size)\n"
   ]
  },
  {
   "cell_type": "code",
   "execution_count": 3,
   "metadata": {},
   "outputs": [
    {
     "name": "stdout",
     "output_type": "stream",
     "text": [
      "DenseNetwork(\n",
      "  (0): InputBlock(\n",
      "    (0): BatchNorm1d(8, eps=1e-05, momentum=0.1, affine=True, track_running_stats=True)\n",
      "  )\n",
      "  (1): DenseBlock(\n",
      "    (0): Linear(in_features=8, out_features=8, bias=True)\n",
      "    (1): BatchNorm1d(8, eps=1e-05, momentum=0.1, affine=True, track_running_stats=True)\n",
      "    (2): LeakyReLU(negative_slope=0.1)\n",
      "  )\n",
      "  (2): DenseBlock(\n",
      "    (0): Linear(in_features=8, out_features=8, bias=True)\n",
      "    (1): BatchNorm1d(8, eps=1e-05, momentum=0.1, affine=True, track_running_stats=True)\n",
      "    (2): LeakyReLU(negative_slope=0.1)\n",
      "  )\n",
      "  (3): DenseBlock(\n",
      "    (0): Linear(in_features=8, out_features=8, bias=True)\n",
      "    (1): BatchNorm1d(8, eps=1e-05, momentum=0.1, affine=True, track_running_stats=True)\n",
      "    (2): LeakyReLU(negative_slope=0.1)\n",
      "  )\n",
      "  (4): DenseBlock(\n",
      "    (0): Linear(in_features=8, out_features=1, bias=True)\n",
      "  )\n",
      ")\n"
     ]
    }
   ],
   "source": [
    "from torch_tools import DenseNetwork\n",
    "\n",
    "model = DenseNetwork(\n",
    "    in_feats=8,\n",
    "    out_feats=1,\n",
    "    hidden_sizes=(8, 8, 8),\n",
    "    input_bnorm=True,\n",
    "    hidden_bnorm=True,\n",
    "    input_dropout=0.0,\n",
    "    hidden_dropout=0.0,\n",
    ")\n",
    "print(model)"
   ]
  },
  {
   "attachments": {},
   "cell_type": "markdown",
   "metadata": {},
   "source": [
    "We also need a new loss function: this time—means-squared-error."
   ]
  },
  {
   "cell_type": "code",
   "execution_count": 4,
   "metadata": {},
   "outputs": [],
   "source": [
    "from torch.nn import MSELoss\n",
    "from torch.optim import Adam\n",
    "\n",
    "l1_loss = MSELoss(reduction=\"sum\")\n",
    "\n",
    "optimiser = Adam(model.parameters(), lr=1e-4)"
   ]
  },
  {
   "attachments": {},
   "cell_type": "markdown",
   "metadata": {},
   "source": [
    "Now we need to rewrite the training and validation functions to extract slightly different information than we did in the classification example."
   ]
  },
  {
   "cell_type": "code",
   "execution_count": 5,
   "metadata": {},
   "outputs": [],
   "source": [
    "from torch.nn import Module\n",
    "from torch import no_grad\n",
    "\n",
    "\n",
    "def train_one_epoch(\n",
    "    model: Module,\n",
    "    loss_func: MSELoss,\n",
    "    optim: Adam,\n",
    "    train_loader: DataLoader,\n",
    "):\n",
    "    \"\"\"Train the regression model for a single epoch.\n",
    "\n",
    "    Parameters\n",
    "    ----------\n",
    "    model : Module\n",
    "        PyTorch model.\n",
    "    loss_func : MSELoss\n",
    "        Loss function.\n",
    "    optim : Adam\n",
    "        Optimiser to train the function with.\n",
    "    train_loader : DataLoader\n",
    "        Training dataloader.\n",
    "\n",
    "    Returns\n",
    "    -------\n",
    "    mean_loss : float\n",
    "        Mean loss over the epoch.\n",
    "    mean_ratio : float\n",
    "        Mean preds to target ratio.\n",
    "\n",
    "\n",
    "    \"\"\"\n",
    "    model.train()\n",
    "    running_loss = 0.0\n",
    "    running_ratio = 0.0\n",
    "    for batch, targets in train_loader:\n",
    "        batch, targets = batch.float(), targets.float()\n",
    "\n",
    "        optim.zero_grad()\n",
    "\n",
    "        preds = model(batch)\n",
    "\n",
    "        loss = loss_func(preds, targets)\n",
    "\n",
    "        loss.backward()\n",
    "\n",
    "        optim.step()\n",
    "\n",
    "        running_loss += loss.item()\n",
    "\n",
    "        running_ratio += ((preds.detach() - targets).abs() / targets).sum()\n",
    "\n",
    "    mean_loss = running_loss / len(valid_loader.dataset)\n",
    "    mean_ratio = running_ratio / len(valid_loader.dataset)\n",
    "\n",
    "    return mean_loss, mean_ratio\n",
    "\n",
    "\n",
    "@no_grad()\n",
    "def validate_one_epoch(\n",
    "    model: Module,\n",
    "    loss_func: MSELoss,\n",
    "    valid_loader: DataLoader,\n",
    "):\n",
    "    \"\"\"Validate single epoch.\n",
    "\n",
    "    Parameters\n",
    "    ----------\n",
    "    model : Module\n",
    "        PyTorch model to validate.\n",
    "    loss_func : MSELoss\n",
    "        Loss function.\n",
    "    valid_loader : DataLoader\n",
    "        Validation DataLoader.\n",
    "\n",
    "    Returns\n",
    "    -------\n",
    "    mean_loss : float\n",
    "        Mean loss over the epoch.\n",
    "    mean_ratio : float\n",
    "        Mean preds to target ratio.\n",
    "\n",
    "    \"\"\"\n",
    "    model.eval()\n",
    "    running_loss = 0.0\n",
    "    running_ratio = 0.0\n",
    "    for batch, targets in valid_loader:\n",
    "        batch, targets = batch.float(), targets.float()\n",
    "\n",
    "        preds = model(batch)\n",
    "\n",
    "        loss = loss_func(preds, targets)\n",
    "\n",
    "        running_loss += loss.item()\n",
    "\n",
    "        running_ratio += ((preds.detach() - targets).abs() / targets).sum()\n",
    "\n",
    "    mean_loss = running_loss / len(valid_loader.dataset)\n",
    "    mean_ratio = running_ratio / len(valid_loader.dataset)\n",
    "\n",
    "    return mean_loss, mean_ratio"
   ]
  },
  {
   "cell_type": "markdown",
   "metadata": {},
   "source": [
    "Now, let's train!"
   ]
  },
  {
   "cell_type": "code",
   "execution_count": 6,
   "metadata": {},
   "outputs": [
    {
     "data": {
      "image/png": "[encoded data removed]",
      "text/plain": [
       "<Figure size 640x480 with 2 Axes>"
      ]
     },
     "metadata": {},
     "output_type": "display_data"
    }
   ],
   "source": [
    "import matplotlib.pyplot as plt\n",
    "\n",
    "metrics = {\n",
    "    \"train_loss\": [],\n",
    "    \"valid_loss\": [],\n",
    "    \"train_ratio\": [],\n",
    "    \"valid_ratio\": [],\n",
    "}\n",
    "\n",
    "for epoch in range(100):\n",
    "    train_loss, train_ratio = train_one_epoch(\n",
    "        model,\n",
    "        l1_loss,\n",
    "        optimiser,\n",
    "        train_loader,\n",
    "    )\n",
    "    valid_loss, valid_ratio = validate_one_epoch(\n",
    "        model,\n",
    "        l1_loss,\n",
    "        valid_loader,\n",
    "    )\n",
    "\n",
    "    metrics[\"train_loss\"].append(train_loss)\n",
    "    metrics[\"valid_loss\"].append(valid_loss)\n",
    "    metrics[\"train_ratio\"].append(train_ratio)\n",
    "    metrics[\"valid_ratio\"].append(valid_ratio)\n",
    "\n",
    "\n",
    "figure, axes = plt.subplots(1, 2)\n",
    "\n",
    "axes[0].plot(metrics[\"train_loss\"])\n",
    "axes[0].plot(metrics[\"valid_loss\"])\n",
    "\n",
    "axes[1].plot(metrics[\"train_ratio\"])\n",
    "axes[1].plot(metrics[\"valid_ratio\"])\n",
    "\n",
    "\n",
    "axes[0].set_ylabel(\"Mean-squared-error\")\n",
    "axes[1].set_ylabel(r\"$\\left | x_{i} - y_{i} \\right | / y_{i}$\")\n",
    "\n",
    "for axis in axes.ravel():\n",
    "    axis.set_xlim(left=0.0, right=len(metrics[\"train_loss\"]))\n",
    "    axis.set_ylim(bottom=0.0)\n",
    "\n",
    "    axis.set_xlabel(\"Epochs\")\n",
    "\n",
    "    axis.set_aspect(\n",
    "        (axis.get_xlim()[1] - axis.get_xlim()[0])\n",
    "        / (axis.get_ylim()[1] - axis.get_ylim()[0])\n",
    "    )\n",
    "figure.tight_layout(pad=0.1)"
   ]
  }
 ],
 "metadata": {
  "kernelspec": {
   "display_name": "torch-tools-demo",
   "language": "python",
   "name": "python3"
  },
  "language_info": {
   "codemirror_mode": {
    "name": "ipython",
    "version": 3
   },
   "file_extension": ".py",
   "mimetype": "text/x-python",
   "name": "python",
   "nbconvert_exporter": "python",
   "pygments_lexer": "ipython3",
   "version": "3.10.9"
  },
  "orig_nbformat": 4,
  "vscode": {
   "interpreter": {
    "hash": "3e74d1994c379df6aff695ace2bf1d8e3df6b224be0e21a88aabc57cf071ea71"
   }
  }
 },
 "nbformat": 4,
 "nbformat_minor": 2
}
