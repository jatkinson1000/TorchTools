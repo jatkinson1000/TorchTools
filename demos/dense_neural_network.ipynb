{
 "cells": [
  {
   "cell_type": "markdown",
   "metadata": {},
   "source": [
    "# Dense neural network model demonstration"
   ]
  },
  {
   "cell_type": "markdown",
   "metadata": {},
   "source": [
    "This simple model can be used for classification and regression. It can be easily instantiated with custom numbers of layers of arbitrary sizes. The model is composed of dense blocks, which contain\n",
    "\n",
    "Linear -> BatchNorm1d -> Dropout -> LeakyReLU.\n",
    "\n",
    "(Note: the final block is always just a Linear layer with no activation.)\n",
    "\n",
    "The batch-normalisation and dropout are optional (cotrolled at instantation), and the negative slope of the leaky relu can also be easily set (zero if you want regular ReLU).\n",
    "\n",
    "Suppose we want a model which takes `256` input features, produces an ouptut of size `2`, has two hidden layers of size `128` with batch-normalisation and dropout layers of `p=0.25`.\n",
    "\n",
<<<<<<< HEAD
    "Creating such a model in PyTorch is easy enough, but it often results in hacky, ugly code, and the unnecessary duplication of effort. With the `DenseNetwork` class, it's easy---and the model has been tested."
=======
<<<<<<< HEAD
    "Creating such a model in PyTorch is easy enough, but it often results in hacky, untested code, and the unnecessary duplication of effort. With the `DenseNetwork` class, it's easy---and the model has been tested."
=======
    "Creating such a model in PyTorch is easy enough, but it often results in hacky, untested code and the unnecessary duplication of effort. With the `DenseNetwork` class, it's easy---and the model has been tested."
>>>>>>> 7026e1e86b23effb730caa792552bd1d37645ef2
>>>>>>> 24d300bd752e762056404d26471688263414c7b5
   ]
  },
  {
   "cell_type": "code",
   "execution_count": 18,
   "metadata": {},
   "outputs": [
    {
     "name": "stdout",
     "output_type": "stream",
     "text": [
      "DenseNetwork(\n",
      "  (_fwd_seq): Sequential(\n",
      "    (0): DenseBlock(\n",
      "      (_fwd_seq): Sequential(\n",
      "        (0): Linear(in_features=256, out_features=128, bias=True)\n",
      "        (1): BatchNorm1d(128, eps=1e-05, momentum=0.1, affine=True, track_running_stats=True)\n",
      "        (2): Dropout(p=0.25, inplace=False)\n",
      "        (3): LeakyReLU(negative_slope=0.2)\n",
      "      )\n",
      "    )\n",
      "    (1): DenseBlock(\n",
      "      (_fwd_seq): Sequential(\n",
      "        (0): Linear(in_features=128, out_features=128, bias=True)\n",
      "        (1): BatchNorm1d(128, eps=1e-05, momentum=0.1, affine=True, track_running_stats=True)\n",
      "        (2): Dropout(p=0.25, inplace=False)\n",
      "        (3): LeakyReLU(negative_slope=0.2)\n",
      "      )\n",
      "    )\n",
      "    (2): DenseBlock(\n",
      "      (_fwd_seq): Sequential(\n",
      "        (0): Linear(in_features=128, out_features=2, bias=True)\n",
      "      )\n",
      "    )\n",
      "  )\n",
      ")\n"
     ]
    }
   ],
   "source": [
    "from torch_tools.models import DenseNetwork\n",
    "\n",
    "model = DenseNetwork(in_feats=256,\n",
    "                     out_feats=2,\n",
    "                     hidden_sizes=(128, 128),\n",
    "                     batchnorm=True,\n",
    "                     dropout_prob=0.25,)\n",
    "print(model)"
   ]
  },
  {
   "cell_type": "markdown",
   "metadata": {},
   "source": [
    "Let's pass some inputs through our model. Note, all PyTorch models are sub classes of `torch.nn.Module`, and take mini-batches of inputs. Let's create a mini-batch of ten inputs containing random noise, and pass them through the model."
   ]
  },
  {
   "cell_type": "code",
   "execution_count": 19,
   "metadata": {},
   "outputs": [
    {
     "name": "stdout",
     "output_type": "stream",
     "text": [
      "tensor([[0.6561, 0.5483],\n",
      "        [0.3934, 0.4903],\n",
      "        [0.4762, 0.6064],\n",
      "        [0.6335, 0.5486],\n",
      "        [0.4037, 0.5695],\n",
      "        [0.4644, 0.6962],\n",
      "        [0.3914, 0.4974],\n",
      "        [0.5190, 0.5832],\n",
      "        [0.3238, 0.3654],\n",
      "        [0.4613, 0.4926]], grad_fn=<SigmoidBackward0>)\n"
     ]
    }
   ],
   "source": [
    "import torch\n",
    "\n",
    "x = torch.rand(10, 256)\n",
    "\n",
    "prediction = model(x).sigmoid()\n",
    "print(prediction)"
   ]
  },
  {
   "cell_type": "markdown",
   "metadata": {},
   "source": [
    "Note how we (optionally) applied the sigmoid acitvation function to the output, because the final layer doesn't have an activation function."
   ]
  }
 ],
 "metadata": {
  "kernelspec": {
   "display_name": "Python 3.10.6 ('torch-tools')",
   "language": "python",
   "name": "python3"
  },
  "language_info": {
   "codemirror_mode": {
    "name": "ipython",
    "version": 3
   },
   "file_extension": ".py",
   "mimetype": "text/x-python",
   "name": "python",
   "nbconvert_exporter": "python",
   "pygments_lexer": "ipython3",
   "version": "3.10.6"
  },
  "orig_nbformat": 4,
  "vscode": {
   "interpreter": {
    "hash": "389daa27a49850dc9127ed4dc2ce151fa3f7d10fd95fdbad85e152cfd906ea76"
   }
  }
 },
 "nbformat": 4,
 "nbformat_minor": 2
}
