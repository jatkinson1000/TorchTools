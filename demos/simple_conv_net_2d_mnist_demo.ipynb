{
 "cells": [
  {
   "attachments": {},
   "cell_type": "markdown",
   "metadata": {},
   "source": [
    "# ``SimpleConvNet2d`` Demo\n",
    "\n",
    "The ``torch_tools.SimpleConvNet2d`` is a small, simple, 2D CNN model."
   ]
  },
  {
   "attachments": {},
   "cell_type": "markdown",
   "metadata": {},
   "source": [
    "## Classifying handwritten digits — MNIST\n",
    "\n",
    "The MNIST dataset contains greyscale images of `(28,28)` pixels containing handwritten digits between zero and nine. It is very easy to access the MNIST data through ``torchvision``—so much so that we don't even need to use the custom ``torch_tools.DataSet`` class.\n",
    "\n",
    "So, let's get some digits!\n",
    "\n",
    "### Demo env\n",
    "Remember: the demo env requirements file—``demo-requirements.conda.yaml``—is different from the standard ``requirements.conda.yaml``. See ``README.md``."
   ]
  },
  {
   "cell_type": "code",
   "execution_count": 1,
   "metadata": {},
   "outputs": [
    {
     "name": "stdout",
     "output_type": "stream",
     "text": [
      "60000 10000\n"
     ]
    }
   ],
   "source": [
    "from torchvision.datasets import MNIST\n",
    "from torch import eye\n",
    "from torchvision.transforms import Compose, ToTensor, RandomRotation\n",
    "from torchvision.transforms import ColorJitter\n",
    "\n",
    "import matplotlib.pyplot as plt\n",
    "\n",
    "train_set = MNIST(\n",
    "    \"~/mnist_data/\",\n",
    "    download=True,\n",
    "    train=True,\n",
    "    transform=Compose(\n",
    "        [\n",
    "            ToTensor(),\n",
    "            lambda x: x.repeat(3, 1, 1),\n",
    "            RandomRotation(180.0),\n",
    "            ColorJitter(brightness=0.1, hue=0.1, saturation=0.1, contrast=0.1),\n",
    "        ]\n",
    "    ),\n",
    "    target_transform=Compose([lambda x: eye(10)[x]]),\n",
    ")\n",
    "\n",
    "valid_set = MNIST(\n",
    "    \"~/mnist_data/\",\n",
    "    download=True,\n",
    "    train=False,\n",
    "    transform=Compose([ToTensor(), lambda x: x.repeat(3, 1, 1)]),\n",
    "    target_transform=Compose([lambda x: eye(10)[x]]),\n",
    ")\n",
    "\n",
    "print(len(train_set), len(valid_set))"
   ]
  },
  {
   "attachments": {},
   "cell_type": "markdown",
   "metadata": {},
   "source": [
    "Since we have done quite a few things here, let's break them down.\n",
    "\n",
    "- The ``transform`` argument:\n",
    "  - we supply a ``torchvision.transfroms.Compose`` object, which simply lets you chain callable objects to modify the images.\n",
    "  - the first thing in the ``Compose`` is a ``torchvision.transforms.ToTensor``, which converts PIL images (or numpy image-like arrays) to ``torch.Tensor``s.\n",
    "  - the second thing is the lambda function, which simply repeats the greyscale ``Tensor`` three times along the channel dimension. We do this because we are going to use a pretrained model which requires three input channels.\n",
    "- The ``target_transform`` argument:\n",
    "  - The target for each image is simply encoded as an integer. ``0`` means the image contains a zero, ``1`` means the image contains a one, etc. We convert these indices to one-hot encoded vectors with the lambda function supplued to ``target_transfrom``.\n",
    "\n",
    "Let's look at a single example."
   ]
  },
  {
   "cell_type": "code",
   "execution_count": 2,
   "metadata": {},
   "outputs": [
    {
     "data": {
      "image/png": "[encoded data removed]",
      "text/plain": [
       "<Figure size 640x480 with 1 Axes>"
      ]
     },
     "metadata": {},
     "output_type": "display_data"
    }
   ],
   "source": [
    "img, target = valid_set[0]\n",
    "\n",
    "plt.imshow(img.permute(1, 2, 0))\n",
    "plt.title(f\"target: {target}\")\n",
    "plt.show()"
   ]
  },
  {
   "attachments": {},
   "cell_type": "markdown",
   "metadata": {},
   "source": [
    "This example is clearly a five, and the target is a one-hot vector encoding the fact that the ground truth is a five.\n",
    "\n",
    "As before, we now wrap the datasets in ``torch.utils.data.DataLoader``."
   ]
  },
  {
   "cell_type": "code",
   "execution_count": 3,
   "metadata": {},
   "outputs": [],
   "source": [
    "from torch.utils.data import DataLoader\n",
    "\n",
    "batch_size = 32\n",
    "\n",
    "train_loader = DataLoader(train_set, shuffle=True, batch_size=batch_size)\n",
    "valid_loader = DataLoader(valid_set, shuffle=False, batch_size=batch_size)"
   ]
  },
  {
   "attachments": {},
   "cell_type": "markdown",
   "metadata": {},
   "source": [
    "As before, we need a model, optimiser and a loss function."
   ]
  },
  {
   "cell_type": "code",
   "execution_count": 4,
   "metadata": {},
   "outputs": [
    {
     "name": "stdout",
     "output_type": "stream",
     "text": [
      "SimpleConvNet2d(\n",
      "  (0): Encoder2d(\n",
      "    (0): DoubleConvBlock(\n",
      "      (0): ConvBlock(\n",
      "        (0): Conv2d(3, 64, kernel_size=(3, 3), stride=(1, 1), padding=(1, 1))\n",
      "        (1): BatchNorm2d(64, eps=1e-05, momentum=0.1, affine=True, track_running_stats=True)\n",
      "        (2): LeakyReLU(negative_slope=0.1)\n",
      "      )\n",
      "      (1): ConvBlock(\n",
      "        (0): Conv2d(64, 64, kernel_size=(3, 3), stride=(1, 1), padding=(1, 1))\n",
      "        (1): BatchNorm2d(64, eps=1e-05, momentum=0.1, affine=True, track_running_stats=True)\n",
      "        (2): LeakyReLU(negative_slope=0.1)\n",
      "      )\n",
      "    )\n",
      "    (1): DownBlock(\n",
      "      (0): MaxPool2d(kernel_size=2, stride=2, padding=0, dilation=1, ceil_mode=False)\n",
      "      (1): DoubleConvBlock(\n",
      "        (0): ConvBlock(\n",
      "          (0): Conv2d(64, 128, kernel_size=(3, 3), stride=(1, 1), padding=(1, 1))\n",
      "          (1): BatchNorm2d(128, eps=1e-05, momentum=0.1, affine=True, track_running_stats=True)\n",
      "          (2): LeakyReLU(negative_slope=0.1)\n",
      "        )\n",
      "        (1): ConvBlock(\n",
      "          (0): Conv2d(128, 128, kernel_size=(3, 3), stride=(1, 1), padding=(1, 1))\n",
      "          (1): BatchNorm2d(128, eps=1e-05, momentum=0.1, affine=True, track_running_stats=True)\n",
      "          (2): LeakyReLU(negative_slope=0.1)\n",
      "        )\n",
      "      )\n",
      "    )\n",
      "    (2): DownBlock(\n",
      "      (0): MaxPool2d(kernel_size=2, stride=2, padding=0, dilation=1, ceil_mode=False)\n",
      "      (1): DoubleConvBlock(\n",
      "        (0): ConvBlock(\n",
      "          (0): Conv2d(128, 256, kernel_size=(3, 3), stride=(1, 1), padding=(1, 1))\n",
      "          (1): BatchNorm2d(256, eps=1e-05, momentum=0.1, affine=True, track_running_stats=True)\n",
      "          (2): LeakyReLU(negative_slope=0.1)\n",
      "        )\n",
      "        (1): ConvBlock(\n",
      "          (0): Conv2d(256, 256, kernel_size=(3, 3), stride=(1, 1), padding=(1, 1))\n",
      "          (1): BatchNorm2d(256, eps=1e-05, momentum=0.1, affine=True, track_running_stats=True)\n",
      "          (2): LeakyReLU(negative_slope=0.1)\n",
      "        )\n",
      "      )\n",
      "    )\n",
      "    (3): DownBlock(\n",
      "      (0): MaxPool2d(kernel_size=2, stride=2, padding=0, dilation=1, ceil_mode=False)\n",
      "      (1): DoubleConvBlock(\n",
      "        (0): ConvBlock(\n",
      "          (0): Conv2d(256, 512, kernel_size=(3, 3), stride=(1, 1), padding=(1, 1))\n",
      "          (1): BatchNorm2d(512, eps=1e-05, momentum=0.1, affine=True, track_running_stats=True)\n",
      "          (2): LeakyReLU(negative_slope=0.1)\n",
      "        )\n",
      "        (1): ConvBlock(\n",
      "          (0): Conv2d(512, 512, kernel_size=(3, 3), stride=(1, 1), padding=(1, 1))\n",
      "          (1): BatchNorm2d(512, eps=1e-05, momentum=0.1, affine=True, track_running_stats=True)\n",
      "          (2): LeakyReLU(negative_slope=0.1)\n",
      "        )\n",
      "      )\n",
      "    )\n",
      "  )\n",
      "  (1): AdaptiveAvgPool2d(output_size=(1, 1))\n",
      "  (2): Flatten(start_dim=1, end_dim=-1)\n",
      "  (3): Linear(in_features=512, out_features=10, bias=True)\n",
      ")\n"
     ]
    }
   ],
   "source": [
    "from torch_tools import SimpleConvNet2d\n",
    "from torch.cuda import is_available\n",
    "\n",
    "DEVICE = \"cuda\" if is_available() else \"cpu\"\n",
    "\n",
    "model = SimpleConvNet2d(in_chans=3, out_feats=10).to(DEVICE)\n",
    "print(model)"
   ]
  },
  {
   "attachments": {},
   "cell_type": "markdown",
   "metadata": {},
   "source": [
    "Now, lets set up a loss function and optimiser."
   ]
  },
  {
   "cell_type": "code",
   "execution_count": 5,
   "metadata": {},
   "outputs": [],
   "source": [
    "from torch.nn import BCELoss\n",
    "from torch.optim import Adam\n",
    "\n",
    "loss_func = BCELoss(reduction=\"sum\")\n",
    "optimiser = Adam(model.parameters(), lr=1e-4, weight_decay=1e-4)"
   ]
  },
  {
   "attachments": {},
   "cell_type": "markdown",
   "metadata": {},
   "source": [
    "And now, the training and validation loops."
   ]
  },
  {
   "cell_type": "code",
   "execution_count": 6,
   "metadata": {},
   "outputs": [],
   "source": [
    "from torch import no_grad\n",
    "\n",
    "\n",
    "def train_one_epoch(\n",
    "    train_loader: DataLoader,\n",
    "    loss_func: BCELoss,\n",
    "    optimiser: Adam,\n",
    "    model: SimpleConvNet2d,\n",
    "):\n",
    "    \"\"\"Train the model for a single epoch.\n",
    "\n",
    "    Parameters\n",
    "    ----------\n",
    "    train_loader : DataLoader\n",
    "        A data loader supplying the training data.\n",
    "    loss_func : BCELoss\n",
    "        The loss function.\n",
    "    optimiser : Adam\n",
    "        Optimiser to fit the model with.\n",
    "    model : SimpleConvNet2d\n",
    "        Classification model.\n",
    "\n",
    "    Returns\n",
    "    -------\n",
    "    mean_loss : float\n",
    "        Mean loss per item.\n",
    "    accuracy : float\n",
    "        Fraction of inputs correctly classified.\n",
    "\n",
    "    \"\"\"\n",
    "    model.train()\n",
    "    running_loss = 0.0\n",
    "    correct = 0\n",
    "    for batch, targets in train_loader:\n",
    "        batch, targets = batch.to(DEVICE), targets.to(DEVICE)\n",
    "\n",
    "        optimiser.zero_grad()\n",
    "\n",
    "        preds = model(batch).softmax(dim=1)\n",
    "\n",
    "        loss = loss_func(preds, targets)\n",
    "\n",
    "        loss.backward()\n",
    "\n",
    "        optimiser.step()\n",
    "\n",
    "        running_loss += loss.item()\n",
    "\n",
    "        correct += (\n",
    "            (preds.argmax(dim=1).detach().cpu() == targets.cpu().argmax(dim=1))\n",
    "            .sum()\n",
    "            .item()\n",
    "        )\n",
    "\n",
    "    mean_loss = running_loss / len(train_loader.dataset)\n",
    "    accuracy = correct / len(train_loader.dataset)\n",
    "\n",
    "    return mean_loss, accuracy\n",
    "\n",
    "\n",
    "@no_grad()\n",
    "def validate_one_epoch(\n",
    "    valid_loader: DataLoader,\n",
    "    loss_func: BCELoss,\n",
    "    model: SimpleConvNet2d,\n",
    "):\n",
    "    \"\"\"Validate the model for a single epoch.\n",
    "\n",
    "    Parameters\n",
    "    ----------\n",
    "    valid_loader : DataLoader\n",
    "        Validation data loader.\n",
    "    loss_func : BCELoss\n",
    "        Loss function\n",
    "    model : SimpleConvNet2d\n",
    "        Classification model.\n",
    "\n",
    "    Returns\n",
    "    -------\n",
    "    mean_loss : float\n",
    "        The mean loss per item.\n",
    "    accuracy : float\n",
    "        The fraction of correctly classified inputs.\n",
    "\n",
    "    \"\"\"\n",
    "    model.eval()\n",
    "    running_loss = 0.0\n",
    "    correct = 0\n",
    "    for batch, targets in valid_loader:\n",
    "        batch, targets = batch.to(DEVICE), targets.to(DEVICE)\n",
    "\n",
    "        preds = model(batch).softmax(dim=1)\n",
    "\n",
    "        loss = loss_func(preds, targets)\n",
    "\n",
    "        running_loss += loss.item()\n",
    "\n",
    "        correct += (\n",
    "            (preds.argmax(dim=1).detach().cpu() == targets.argmax(dim=1).cpu())\n",
    "            .sum()\n",
    "            .item()\n",
    "        )\n",
    "\n",
    "    mean_loss = running_loss / len(valid_loader.dataset)\n",
    "    accuracy = correct / len(valid_loader.dataset)\n",
    "\n",
    "    return mean_loss, accuracy"
   ]
  },
  {
   "attachments": {},
   "cell_type": "markdown",
   "metadata": {},
   "source": [
    "Now we can train the model."
   ]
  },
  {
   "cell_type": "code",
   "execution_count": 7,
   "metadata": {},
   "outputs": [],
   "source": [
    "num_epochs = 20\n",
    "\n",
    "training_loss, validation_loss = [], []\n",
    "training_acc, validation_acc = [], []\n",
    "\n",
    "for epoch in range(num_epochs):\n",
    "    train_loss, train_acc = train_one_epoch(\n",
    "        train_loader,\n",
    "        loss_func,\n",
    "        optimiser,\n",
    "        model,\n",
    "    )\n",
    "    valid_loss, valid_acc = validate_one_epoch(valid_loader, loss_func, model)\n",
    "\n",
    "    training_loss.append(train_loss)\n",
    "    training_acc.append(train_acc)\n",
    "\n",
    "    validation_loss.append(valid_loss)\n",
    "    validation_acc.append(valid_acc)"
   ]
  },
  {
   "attachments": {},
   "cell_type": "markdown",
   "metadata": {},
   "source": [
    "Now let's plot some simple performance metrics."
   ]
  },
  {
   "cell_type": "code",
   "execution_count": 8,
   "metadata": {},
   "outputs": [
    {
     "data": {
      "image/png": "[encoded data removed]",
      "text/plain": [
       "<Figure size 640x480 with 2 Axes>"
      ]
     },
     "metadata": {},
     "output_type": "display_data"
    }
   ],
   "source": [
    "fig, axes = plt.subplots(1, 2)\n",
    "\n",
    "axes[0].plot(training_loss, \"-o\", label=\"Train\")\n",
    "axes[0].plot(validation_loss, \"-o\", label=\"Valid\")\n",
    "\n",
    "axes[1].plot(training_acc, \"-o\", label=\"Train\")\n",
    "axes[1].plot(validation_acc, \"-o\", label=\"Valid\")\n",
    "\n",
    "\n",
    "for axis in axes.ravel():\n",
    "    axis.set_xlim(left=0, right=len(training_loss) - 1)\n",
    "    axis.set_xlabel(\"Epoch\")\n",
    "\n",
    "axes[0].set_ylim(bottom=0.0, top=0.6)\n",
    "axes[1].set_ylim(bottom=0.88, top=1.0)\n",
    "\n",
    "for axis in axes.ravel():\n",
    "    axis.set_aspect(\n",
    "        (axis.get_xlim()[1] - axis.get_xlim()[0])\n",
    "        / (axis.get_ylim()[1] - axis.get_ylim()[0]),\n",
    "    )\n",
    "    axis.legend(fontsize=9)\n",
    "\n",
    "axes[0].set_ylabel(\"Loss\")\n",
    "axes[1].set_ylabel(\"Classification accuracy\")\n",
    "\n",
    "\n",
    "fig.tight_layout()"
   ]
  }
 ],
 "metadata": {
  "kernelspec": {
   "display_name": "torch-tools-demo",
   "language": "python",
   "name": "python3"
  },
  "language_info": {
   "codemirror_mode": {
    "name": "ipython",
    "version": 3
   },
   "file_extension": ".py",
   "mimetype": "text/x-python",
   "name": "python",
   "nbconvert_exporter": "python",
   "pygments_lexer": "ipython3",
   "version": "3.10.10"
  },
  "orig_nbformat": 4,
  "vscode": {
   "interpreter": {
    "hash": "ca0431213683a4cf4fa8a04c822ab65ef03858b4260bcbbe63868c9f59e4f0b5"
   }
  }
 },
 "nbformat": 4,
 "nbformat_minor": 2
}
