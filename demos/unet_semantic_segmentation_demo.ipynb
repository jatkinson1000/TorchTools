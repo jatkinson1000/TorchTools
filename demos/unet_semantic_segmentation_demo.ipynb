{
 "cells": [
  {
   "attachments": {},
   "cell_type": "markdown",
   "metadata": {},
   "source": [
    "# ``UNet`` demo\n",
    "\n",
    "The UNet is a classic go-to for semantic segmentation. To demonstrate it, we can use the VOCSegmentation dataset, which we can access through ``torchvision``."
   ]
  },
  {
   "cell_type": "code",
   "execution_count": null,
   "metadata": {},
   "outputs": [],
   "source": [
    "from torchvision.datasets import VOCSegmentation"
   ]
  }
 ],
 "metadata": {
  "kernelspec": {
   "display_name": "torch-tools-demo",
   "language": "python",
   "name": "python3"
  },
  "language_info": {
   "codemirror_mode": {
    "name": "ipython",
    "version": 3
   },
   "file_extension": ".py",
   "mimetype": "text/x-python",
   "name": "python",
   "nbconvert_exporter": "python",
   "pygments_lexer": "ipython3",
   "version": "3.10.9"
  },
  "orig_nbformat": 4,
  "vscode": {
   "interpreter": {
    "hash": "3e74d1994c379df6aff695ace2bf1d8e3df6b224be0e21a88aabc57cf071ea71"
   }
  }
 },
 "nbformat": 4,
 "nbformat_minor": 2
}
